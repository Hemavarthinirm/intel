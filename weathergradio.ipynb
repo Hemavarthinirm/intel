{
 "cells": [
  {
   "cell_type": "code",
   "execution_count": 1,
   "metadata": {},
   "outputs": [
    {
     "name": "stderr",
     "output_type": "stream",
     "text": [
      "c:\\Users\\varth\\AppData\\Local\\Programs\\Python\\Python310\\lib\\site-packages\\tqdm\\auto.py:21: TqdmWarning: IProgress not found. Please update jupyter and ipywidgets. See https://ipywidgets.readthedocs.io/en/stable/user_install.html\n",
      "  from .autonotebook import tqdm as notebook_tqdm\n"
     ]
    },
    {
     "name": "stdout",
     "output_type": "stream",
     "text": [
      "Running on local URL:  http://127.0.0.1:7861\n",
      "\n",
      "To create a public link, set `share=True` in `launch()`.\n"
     ]
    },
    {
     "data": {
      "text/html": [
       "<div><iframe src=\"http://127.0.0.1:7861/\" width=\"100%\" height=\"500\" allow=\"autoplay; camera; microphone; clipboard-read; clipboard-write;\" frameborder=\"0\" allowfullscreen></iframe></div>"
      ],
      "text/plain": [
       "<IPython.core.display.HTML object>"
      ]
     },
     "metadata": {},
     "output_type": "display_data"
    },
    {
     "data": {
      "text/plain": []
     },
     "execution_count": 1,
     "metadata": {},
     "output_type": "execute_result"
    }
   ],
   "source": [
    "import pandas as pd\n",
    "import gradio as gr\n",
    "import matplotlib.pyplot as plt\n",
    "import seaborn as sns\n",
    "\n",
    "def analyze_water_requirement(url):\n",
    "    # Load data\n",
    "    df = pd.read_csv(url)\n",
    "\n",
    "    # Data analysis and visualization\n",
    "    sorted_correlation = df.corr()['WATER REQUIREMENT'].sort_values()\n",
    "    subset_corr_matrix = df[sorted_correlation.index].corr()\n",
    "    plt.figure(figsize=(10, 8))\n",
    "    sns.heatmap(subset_corr_matrix, cmap='coolwarm', linewidths=0.5)\n",
    "    plt.title('Correlation Heatmap')\n",
    "    plt.show()\n",
    "\n",
    "    correlation_series = df.corr()['WATER REQUIREMENT'].sort_values()\n",
    "    plt.figure(figsize=(12, 8))\n",
    "    correlation_series.plot(kind='bar')\n",
    "    plt.title('Correlation with WATER REQUIREMENT')\n",
    "    plt.xlabel('Column')\n",
    "    plt.ylabel('Correlation')\n",
    "    plt.xticks(rotation=90)\n",
    "    plt.show()\n",
    "\n",
    "    return df.describe()\n",
    "\n",
    "# Create Gradio interface\n",
    "iface = gr.Interface(\n",
    "    fn=analyze_water_requirement,\n",
    "    inputs=[\"file\"],\n",
    "    outputs=\"text\",\n",
    "    title=\"Water Requirement Data Analysis\",\n",
    "    description=\"Analyzes water requirement data and displays correlation heatmap and statistics.\"\n",
    ")\n",
    "\n",
    "# Launch the interface\n",
    "iface.launch()\n"
   ]
  }
 ],
 "metadata": {
  "kernelspec": {
   "display_name": "Python 3",
   "language": "python",
   "name": "python3"
  },
  "language_info": {
   "codemirror_mode": {
    "name": "ipython",
    "version": 3
   },
   "file_extension": ".py",
   "mimetype": "text/x-python",
   "name": "python",
   "nbconvert_exporter": "python",
   "pygments_lexer": "ipython3",
   "version": "3.10.8"
  }
 },
 "nbformat": 4,
 "nbformat_minor": 2
}
